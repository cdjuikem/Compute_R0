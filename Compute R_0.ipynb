{
 "cells": [
  {
   "cell_type": "code",
   "execution_count": 2,
   "id": "62c67cb0",
   "metadata": {},
   "outputs": [],
   "source": [
    "import sympy as sp\n",
    "\n",
    "# Définir les variables et les paramètres\n",
    "L_A, I_A, L_B, I_B = sp.symbols('L_A I_A L_B I_B')\n",
    "beta_A, beta_B, gamma_A, gamma_B, alpha_A, alpha_B, S_A, S_B = sp.symbols('beta_A beta_B gamma_A gamma_B alpha_A alpha_B S_A S_B')\n",
    "\n",
    "# Définir les vecteurs F et V\n",
    "F = sp.Matrix([\n",
    "    beta_A * I_A * S_A + beta_B * S_A * I_B,\n",
    "    0,\n",
    "    beta_B * S_B * I_B + beta_A * S_B * I_A,\n",
    "    0\n",
    "])\n",
    "\n",
    "V = sp.Matrix([\n",
    "    gamma_A * L_A,\n",
    "    -gamma_A * L_A + alpha_A * I_A,\n",
    "    gamma_B * L_B,\n",
    "    -gamma_B * L_B + alpha_B * I_B\n",
    "])"
   ]
  },
  {
   "cell_type": "code",
   "execution_count": 17,
   "id": "498bb003",
   "metadata": {},
   "outputs": [
    {
     "data": {
      "text/latex": [
       "$\\displaystyle \\left[\\begin{matrix}I_{A} S_{A} \\beta_{A} + I_{B} S_{A} \\beta_{B}\\\\0\\\\I_{A} S_{B} \\beta_{A} + I_{B} S_{B} \\beta_{B}\\\\0\\end{matrix}\\right]$"
      ],
      "text/plain": [
       "Matrix([\n",
       "[I_A*S_A*beta_A + I_B*S_A*beta_B],\n",
       "[                              0],\n",
       "[I_A*S_B*beta_A + I_B*S_B*beta_B],\n",
       "[                              0]])"
      ]
     },
     "execution_count": 17,
     "metadata": {},
     "output_type": "execute_result"
    }
   ],
   "source": [
    "F"
   ]
  },
  {
   "cell_type": "code",
   "execution_count": 6,
   "id": "2072d7e7",
   "metadata": {},
   "outputs": [],
   "source": [
    "# Définir les variables et paramètres en tant que listes pour le calcul de la matrice jacobienne\n",
    "variables = [L_A, I_A, L_B, I_B]\n",
    "parameters = [beta_A, beta_B, gamma_A, gamma_B, alpha_A, alpha_B, S_A, S_B]\n"
   ]
  },
  {
   "cell_type": "code",
   "execution_count": 7,
   "id": "dd673786",
   "metadata": {},
   "outputs": [],
   "source": [
    "# Initialiser la matrice jacobienne\n",
    "JacF = sp.zeros(len(F), len(variables))\n",
    "JacV = sp.zeros(len(V), len(variables))"
   ]
  },
  {
   "cell_type": "code",
   "execution_count": 18,
   "id": "5891b4ad",
   "metadata": {},
   "outputs": [
    {
     "name": "stdout",
     "output_type": "stream",
     "text": [
      "Matrice Jacobienne F and V:\n"
     ]
    }
   ],
   "source": [
    "# Calculer les dérivées partielles\n",
    "for i in range(len(F)):\n",
    "    for j in range(len(variables)):\n",
    "        JacF[i, j] = sp.diff(F[i], variables[j])\n",
    "        JacV[i, j] = sp.diff(V[i], variables[j])\n",
    "\n",
    "# Afficher la matrice jacobienne\n",
    "print(\"Matrice Jacobienne F and V:\")"
   ]
  },
  {
   "cell_type": "code",
   "execution_count": 20,
   "id": "e3e13db4",
   "metadata": {},
   "outputs": [
    {
     "data": {
      "text/latex": [
       "$\\displaystyle \\left[\\begin{matrix}\\gamma_{A} & 0 & 0 & 0\\\\- \\gamma_{A} & \\alpha_{A} & 0 & 0\\\\0 & 0 & \\gamma_{B} & 0\\\\0 & 0 & - \\gamma_{B} & \\alpha_{B}\\end{matrix}\\right]$"
      ],
      "text/plain": [
       "Matrix([\n",
       "[ gamma_A,       0,        0,       0],\n",
       "[-gamma_A, alpha_A,        0,       0],\n",
       "[       0,       0,  gamma_B,       0],\n",
       "[       0,       0, -gamma_B, alpha_B]])"
      ]
     },
     "execution_count": 20,
     "metadata": {},
     "output_type": "execute_result"
    }
   ],
   "source": [
    "JacV"
   ]
  },
  {
   "cell_type": "code",
   "execution_count": 21,
   "id": "63a16201",
   "metadata": {},
   "outputs": [
    {
     "name": "stdout",
     "output_type": "stream",
     "text": [
      "JacF * JacV^(-1) :\n",
      "⎡S_A⋅β_A  S_A⋅β_A  S_A⋅β_B  S_A⋅β_B⎤\n",
      "⎢───────  ───────  ───────  ───────⎥\n",
      "⎢  α_A      α_A      α_B      α_B  ⎥\n",
      "⎢                                  ⎥\n",
      "⎢   0        0        0        0   ⎥\n",
      "⎢                                  ⎥\n",
      "⎢S_B⋅β_A  S_B⋅β_A  S_B⋅β_B  S_B⋅β_B⎥\n",
      "⎢───────  ───────  ───────  ───────⎥\n",
      "⎢  α_A      α_A      α_B      α_B  ⎥\n",
      "⎢                                  ⎥\n",
      "⎣   0        0        0        0   ⎦\n"
     ]
    }
   ],
   "source": [
    "# Calculer JacF * JacV^(-1)\n",
    "JacFJacV_inv = JacF * JacV.inv()\n",
    "\n",
    "# Afficher le résultat\n",
    "print(\"JacF * JacV^(-1) :\")\n",
    "sp.pprint(JacFJacV_inv)\n"
   ]
  },
  {
   "cell_type": "code",
   "execution_count": 23,
   "id": "2dd3ce5c",
   "metadata": {},
   "outputs": [
    {
     "data": {
      "text/plain": [
       "{0: 3, (S_A*alpha_B*beta_A + S_B*alpha_A*beta_B)/(alpha_A*alpha_B): 1}"
      ]
     },
     "execution_count": 23,
     "metadata": {},
     "output_type": "execute_result"
    }
   ],
   "source": [
    "JacFJacV_inv.eigenvals()"
   ]
  },
  {
   "cell_type": "code",
   "execution_count": 24,
   "id": "db2c59b5",
   "metadata": {},
   "outputs": [],
   "source": [
    "eigenvalues = sp.simplify(JacFJacV_inv.eigenvals())"
   ]
  },
  {
   "cell_type": "code",
   "execution_count": 25,
   "id": "06eaed2b",
   "metadata": {},
   "outputs": [
    {
     "data": {
      "text/latex": [
       "$\\displaystyle \\left\\{ 0 : 3, \\  \\frac{S_{A} \\alpha_{B} \\beta_{A} + S_{B} \\alpha_{A} \\beta_{B}}{\\alpha_{A} \\alpha_{B}} : 1\\right\\}$"
      ],
      "text/plain": [
       "{0: 3, (S_A*alpha_B*beta_A + S_B*alpha_A*beta_B)/(alpha_A*alpha_B): 1}"
      ]
     },
     "execution_count": 25,
     "metadata": {},
     "output_type": "execute_result"
    }
   ],
   "source": [
    "eigenvalues"
   ]
  },
  {
   "cell_type": "code",
   "execution_count": null,
   "id": "b8f8d5c6",
   "metadata": {},
   "outputs": [],
   "source": []
  }
 ],
 "metadata": {
  "kernelspec": {
   "display_name": "Python 3 (ipykernel)",
   "language": "python",
   "name": "python3"
  },
  "language_info": {
   "codemirror_mode": {
    "name": "ipython",
    "version": 3
   },
   "file_extension": ".py",
   "mimetype": "text/x-python",
   "name": "python",
   "nbconvert_exporter": "python",
   "pygments_lexer": "ipython3",
   "version": "3.10.9"
  }
 },
 "nbformat": 4,
 "nbformat_minor": 5
}
